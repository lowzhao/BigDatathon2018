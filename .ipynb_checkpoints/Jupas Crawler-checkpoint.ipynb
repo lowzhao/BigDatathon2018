{
 "cells": [
  {
   "cell_type": "code",
   "execution_count": 25,
   "metadata": {},
   "outputs": [
    {
     "data": {
      "text/plain": [
       "'<script type=\"text/javascript\" src=\"https://www.google.com/jsapi\"></script>\\n<script type=\\'text/javascript\\'>\\n    google.load(\\'visualization\\', \\'1\\', {packages:[\\'corechart\\',\\'table\\']});\\n    google.setOnLoadCallback(drawChartMostAdmittedInst);\\n    google.setOnLoadCallback(drawChartMostAdmittedProgrammes);\\n    google.setOnLoadCallback(drawTableMedian);\\n    google.setOnLoadCallback(drawTableMean);\\n    function drawChartMostAdmittedInst() {\\n        var data = google.visualization.arrayToDataTable([\\n          [\\'Institution\\', \\'Total\\'],\\n          [\"CUHK\", 403],[\"HKU\", 389],[\"POLYU\", 381],[\"CITYU\", 358],[\"HKUST\", 195],[\"HKBU\", 97],[\"OUHK\", 91],[\"SSSDP\", 67],[\"LU\", 58],[\"HKIE\", 45]\\n        ]);\\n\\n        var options = {\\n          title: \\'Most Admitted Institutions\\',\\n          is3D: true\\n        };\\n\\n        var chart = new google.visualization.PieChart(document.getElementById(\\'chart_most_admitted_inst\\'));\\n        chart.draw(data, options);\\n    }\\n    function drawChartMostAdmittedProgrammes() {\\n        var data = google.visualization.arrayToDataTable([\\n          [\\'Programme\\', \\'Total\\'],\\n          [\"(HKUST) Engineering\", 62],[\"(HKU) Bachelor of Engineering\", 57],[\"(CUHK) Engineering\", 53],[\"(CUHK) Science\", 45],[\"(HKU) Bachelor of Science\", 40],[\"(HKU) Bachelor of Arts\", 39],[\"(HKU) Bachelor of Medicine and Bachelor of Surgery\", 39],[\"(HKUST) Science\", 37],[\"(HKUST) Business and Management\", 35],[\"(POLYU) BSc (Hons) in Nursing\", 34]\\n        ]);\\n\\n        var options = {\\n          title: \\'Most Reported Programmes\\',\\n          is3D: true\\n        };\\n\\n        var chart = new google.visualization.PieChart(document.getElementById(\\'chart_most_admitted_programmes\\'));\\n        chart.draw(data, options);\\n    }\\n    function drawTableMedian() {\\n        var data = new google.visualization.DataTable();\\n        data.addColumn(\\'string\\', \\'院校\\');\\n        data.addColumn(\\'string\\', \\'課程\\');\\n        data.addRows([\\n          [\"CUHK\", \"Medicine (MBChB) Programme Global Physician-Leadership Stream (GPS)\"],[\"CUHK\", \"Global Business Studies\"],[\"HKU\", \"Bachelor of Medicine and Bachelor of Surgery\"],[\"CUHK\", \"Medicine (MBChB) Programme\"],[\"HKUST\", \"BSc Quantitative Finance\"],[\"HKUST\", \"International Research Enrichment\"],[\"HKU\", \"Bachelor of Dental Surgery\"],[\"HKU\", \"Bachelor of Chinese Medicine\"],[\"HKU\", \"Bachelor of Business Administration (Law) and Bachelor of Laws (double degree)\"],[\"CUHK\", \"Quantitative Finance and Risk Management Science\"]\\n        ]);\\n\\n        var table = new google.visualization.Table(document.getElementById(\\'chart_median\\'));\\n        table.draw(data, {showRowNumber: true, sort: \\'disable\\'});\\n    }\\n    function drawTableMean() {\\n        var data = new google.visualization.DataTable();\\n        data.addColumn(\\'string\\', \\'院校\\');\\n        data.addColumn(\\'string\\', \\'課程\\');\\n        data.addRows([\\n          [\"CUHK\", \"Medicine (MBChB) Programme Global Physician-Leadership Stream (GPS)\"],[\"CUHK\", \"Global Business Studies\"],[\"HKU\", \"Bachelor of Medicine and Bachelor of Surgery\"],[\"CUHK\", \"Medicine (MBChB) Programme\"],[\"HKU\", \"Bachelor of Dental Surgery\"],[\"HKUST\", \"International Research Enrichment\"],[\"HKUST\", \"BSc Quantitative Finance\"],[\"CUHK\", \"Quantitative Finance and Risk Management Science\"],[\"CUHK\", \"Pharmacy\"],[\"HKU\", \"Bachelor of Business Administration (Law) and Bachelor of Laws (double degree)\"]\\n        ]);\\n\\n        var table = new google.visualization.Table(document.getElementById(\\'chart_mean\\'));\\n        table.draw(data, {showRowNumber: true, sort: \\'disable\\'});\\n    }\\n</script>\\ufeff<!DOCTYPE html PUBLIC \"-//W3C//DTD XHTML 1.0 Strict//EN\" \"http://www.w3.org/TR/xhtml1/DTD/xhtml1-strict.dtd\">\\n<html xmlns=\"http://www.w3.org/1999/xhtml\">\\n<head>\\n\\t<meta name=\"keywords\" content=\"admission grades,jupas discussion,334,dse,al,main round analytics,university,exam\">\\n\\t<meta http-equiv=\"content-type\" content=\"text/html; charset=utf-8\" />\\n\\t<link rel=\"shortcut icon\" href=\"favicon.ico\"> \\n    <link rel=\"icon\" type=\"image/ico\" href=\"favicon.ico\">\\n\\t<!-- fb meta begin -->\\n\\t<meta property=\"og:title\" content=\"ATUHK - Admission To University\" />\\n\\t<meta property=\"og:type\" content=\"non_profit\" />\\n\\t<meta property=\"og:url\" content=\"http://atu.hk\" />\\n\\t<meta property=\"og:image\" content=\"http://atu.hk/images/logo.png\" />\\n\\t<meta property=\"og:site_name\" content=\"ATUHK - Admission To University\" />\\n\\t<meta property=\"og:description\" content=\"Statistical data of admission grades from JUPAS applicants\" />\\n\\t<!-- fb meta end -->\\n\\t<title>JS1204 / BSc Computer Science - 2017 HKDSE Reported Admission Grades - ATUHK</title>\\n\\t<link href=\"./jscss/default.css\" media=\"all\" rel=\"stylesheet\" type=\"text/css\" />\\n\\t<link href=\"./jscss/menu_en.css\" media=\"all\" rel=\"stylesheet\" type=\"text/css\" />\\n\\t<script type=\"text/javascript\" src=\"./jscss/jquery.js\"></script>\\n\\t<script type=\"text/javascript\" src=\"./jscss/common.js\"></script>\\n\\t<link href=\"./jscss/signin.css\" media=\"all\" rel=\"stylesheet\" type=\"text/css\" />\\r\\n\\t<link href=\"./jscss/adm.css\" media=\"all\" rel=\"stylesheet\" type=\"text/css\" />\\r\\n\\t<link href=\"./jscss/g_table.css\" media=\"all\" rel=\"stylesheet\" type=\"text/css\" />\\r\\n\\t<script type=\"text/javascript\" src=\"./jscss/jquery.blockUI.js\"></script>\\r\\n<link rel=\"stylesheet\" href=\"http://atu.hk/results/2013/tipsy.css\" type=\"text/css\" media=\"all\" />\\n<script type=\"text/javascript\" src=\"http://atu.hk/results/2013/jquery.tipsy.js\"></script>\\n\\n\\t<script type=\"text/javascript\">\\n\\n\\tvar _gaq = _gaq || [];\\n\\t_gaq.push([\\'_setAccount\\', \\'UA-42963362-1\\']);\\n\\t_gaq.push([\\'_trackPageview\\']);\\n\\n\\t(function() {\\n\\t\\tvar ga = document.createElement(\\'script\\'); ga.type = \\'text/javascript\\'; ga.async = true;\\n\\t\\tga.src = (\\'https:\\' == document.location.protocol ? \\'https://ssl\\' : \\'http://www\\') + \\'.google-analytics.com/ga.js\\';\\n\\t\\tvar s = document.getElementsByTagName(\\'script\\')[0]; s.parentNode.insertBefore(ga, s);\\n\\t})();\\n\\n\\t</script>\\n</head>\\n\\n<body>\\n<link rel=\"stylesheet\" href=\"//code.jquery.com/ui/1.11.0/themes/smoothness/jquery-ui.css\">\\n<script src=\"//code.jquery.com/jquery-1.10.2.js\"></script>\\n  <script src=\"//code.jquery.com/ui/1.11.0/jquery-ui.js\"></script>\\n  <script src=\"jscss/jquery.cookie.js\"></script>\\n    \\n\\t<div id=\"attention\"><a href=\"notice-20130803.php\">Attention</a></div>\\n\\t<div id=\"container\">\\n\\t\\t<div id=\"wrap\">\\n\\t\\t\\t<div id=\"header\">\\n                <div class=\"top-logo\">\\n\\t\\t\\t\\t<a href=\"./\"><img src=\"./images/logo.png\" border=\"0\" alt=\"ATUHK\" /></a>\\n\\t\\t\\t\\t</div>\\n\\t\\t\\t\\t<div class=\"nav\">\\n\\t\\t\\t\\t\\n\\t\\t\\t\\t\\t<fieldset id=\"signin_menu\">\\n\\t\\t\\t\\t\\t\\t<form method=\"post\" id=\"signin\" action=\"./login.php\">\\n\\t\\t\\t\\t\\t\\t\\t<input type=\"hidden\" name=\"l_submit\" value=\"yes\" />\\n\\t\\t\\t\\t\\t\\t\\t<input type=\"hidden\" name=\"l_return_url\" value=\"/adm-grades.php?programme=JS1204&amp;year=2017/results/2017/cache/1.php\" />\\n\\t\\t\\t\\t\\t\\t\\t<p>\\n\\t\\t\\t\\t\\t\\t\\t\\t<label for=\"username\">Username</label>\\n\\t\\t\\t\\t\\t\\t\\t\\t<input id=\"username\" name=\"l_username\" value=\"\" title=\"username\" tabindex=\"4\" type=\"text\">\\n\\t\\t\\t\\t\\t\\t\\t</p>\\n\\t\\t\\t\\t\\t\\t\\t<p>\\n\\t\\t\\t\\t\\t\\t\\t\\t<label for=\"password\">Password</label>\\n\\t\\t\\t\\t\\t\\t\\t\\t<input id=\"password\" name=\"l_pwd\" value=\"\" title=\"password\" tabindex=\"5\" type=\"password\">\\n\\t\\t\\t\\t\\t\\t\\t</p>\\n\\t\\t\\t\\t\\t\\t\\t<p class=\"remember\">\\n\\t\\t\\t\\t\\t\\t\\t\\t<input id=\"signin_submit\" value=\"Sign In\" tabindex=\"6\" type=\"submit\">\\n\\t\\t\\t\\t\\t\\t\\t\\t<input id=\"remember\" name=\"l_remme\" value=\"yes\" tabindex=\"7\" type=\"checkbox\">\\n\\t\\t\\t\\t\\t\\t\\t\\t<label for=\"remember\">Remember me</label>\\n\\t\\t\\t\\t\\t\\t\\t</p>\\n\\t\\t\\t\\t\\t\\t</form>\\n\\t\\t\\t\\t\\t</fieldset>\\n\\t\\t\\t\\t\\t\\n\\t\\t\\t\\t\\t<ul>\\n\\t\\t\\t\\t\\t\\t<li class=\"contact\"><a href=\"./contactus.php\">Contact Us</a></li>\\n\\t\\t\\t\\t\\t\\t<li class=\"signup\">\\n\\t\\t\\t\\t\\t\\t<div id=\"topnav\" class=\"topnav\"> <a href=\"./register.php\">Register</a> <a href=\"login\" class=\"signin\"><span>Sign In</span></a> </div></li>\\n\\t\\t\\t\\t\\t\\t\\n\\t\\t\\t\\t\\t</ul>\\n\\t\\t\\t\\t\\t<div class=\"clear\"></div>\\n\\t\\t\\t\\t\\t<div id=\"fb-likes\">\\n\\t\\t\\t\\t\\t\\t<form action=\"http://www.google.com.hk/cse\" id=\"cse-search-box\">\\n\\t\\t\\t\\t\\t\\t\\t<div>\\n\\t\\t\\t\\t\\t\\t\\t\\t<input type=\"hidden\" name=\"cx\" value=\"partner-pub-8232070624201251:qqf7us7up09\" />\\n\\t\\t\\t\\t\\t\\t\\t\\t<input type=\"hidden\" name=\"ie\" value=\"ISO-8859-1\" />\\n\\t\\t\\t\\t\\t\\t\\t\\t<input type=\"text\" name=\"q\" size=\"20\" />\\n\\t\\t\\t\\t\\t\\t\\t\\t<input type=\"submit\" name=\"sa\" class=\"but3\" value=\"Search\" />\\n\\t\\t\\t\\t\\t\\t\\t</div>\\n\\t\\t\\t\\t\\t\\t</form>\\n\\n\\t\\t\\t\\t\\t\\t<script type=\"text/javascript\" src=\"http://www.google.com.hk/coop/cse/brand?form=cse-search-box&amp;lang=en\"></script>\\n\\t\\t\\t\\t\\t\\t<iframe src=\"http://www.facebook.com/plugins/like.php?href=http%3A%2F%2Fatu.hk&layout=button_count&show_faces=0&width=95&height=24&locale=zh_HK\" frameborder=\"0\" scrolling=\"no\" style=\"width:95px;height:24px;\"></iframe>\\n\\t\\t\\t\\t\\t</div>\\t\\n\\t\\t\\t\\t</div>\\n\\t\\t\\t\\t<div class=\"clear\"></div>\\n\\t\\t\\t</div>\\n\\t\\t\\t<div id=\"menu\">\\n\\t\\t\\t\\t<div class=\"lc\"></div>\\n\\t\\t\\t\\t<div class=\"a_menu\">\\n\\t\\t\\t\\t\\t<ul>\\n\\t\\t\\t\\t\\t\\t<li><a href=\"./index.php\">HOME</a></li>\\n\\t\\t\\t\\t\\t\\t<li class=\"current\"><a href=\"./adm-grades.php\">ADMISSION GRADES</a></li>\\n\\t\\t\\t\\t\\t\\t<!--<li><a href=\"./search.php\">PROGRAMME SEARCH</a></li>-->\\n\\t\\t\\t\\t\\t\\t<li><a href=\"./rc.php\">RESOURCES</a></li>\\n\\t\\t\\t\\t\\t\\t<li><a href=\"./discussion.php\">DISCUSSION</a></li>\\n\\t\\t\\t\\t\\t\\t<li><a href=\"./archives.php\">PAST YEAR ARCHIVES</a></li>\\n\\t\\t\\t\\t\\t\\t<li><a href=\"./contactus.php\">CONTACT US</a></li>\\n\\t\\t\\t\\t\\t</ul>\\n\\t\\t\\t\\t</div>\\n\\t\\t\\t\\t<div class=\"rc\"></div>\\n\\t\\t\\t\\t<div class=\"clear\"></div>\\n\\t\\t\\t</div>\\n\\t\\t\\n\\t\\t\\t\\n\\t\\t\\t<!--\\n\\t\\t\\t<div style=\"font-weight:bold; font-size:16px; color: red; padding:  10px;\">\\n\\t\\t\\t\\t<a href=\"/2017\">請按這裡進入2017 JUPAS 放榜特輯, 及懇請你們提供資料, 謝謝! </a>\\n\\t\\t\\t</div>\\n\\t\\t\\t-->\\n\\n            \\n            <div id=\"dialog\" title=\"Notification\" style=\"display:none;\">\\n              <div id=\"dialog_content\">多謝使用ATUHK. 為作資料統計及發送最新消息, 我們希望閣下能填下email 地址 (或以facebook 登入), 謝謝!<p><b>Email: </b><small style=\"color: gray;\">(提交後本提示將不會再顯示)</small>\\n              <br /><input type=\\'text\\' id=\\'email_addr\\' size=\"35\">\\n              <button type=\"button\" id=\"email_button\" class=\"ui-button ui-widget ui-state-default ui-corner-all ui-button-text-only\"><span class=\"ui-button-text\">提交</span></button>\\n              </p>\\n              <hr />\\n              以Facebook 登入:\\n              <div id=\"fbbutton\" style=\"margin-top:20px;\"><fb:login-button scope=\"public_profile,email\" onlogin=\"checkLoginState();\"></fb:login-button></div>\\n              </div>\\n            </div><script type=\"text/javascript\">\\n\\t\\t\\t$(document).ready(function() {\\n\\t\\t\\t\\t$.getJSON(\"results/2017/cache/1.php\",function(data) {\\n\\t\\t\\t\\t\\t$(\"#gradestat\").html(\"<table class=\\\\\"data\\\\\" style=\\\\\"width:300px;border:1px solid;font-size:11px;\\\\\"><tbody><tr><th>Calculation Methods</th><th>Max</th><th>Min</th><th>Average</th></tr><tr><td>Best 5 Subjects </td><td><a href=http://atu.hk/adm-grades.php?year=2017&programme=JS1204&dfid=\"+ data.JS1204.Best5.Maxid + \">\" + data.JS1204.Best5.Max +\"</a></td><td><a href=http://atu.hk/adm-grades.php?year=2017&programme=JS1204&dfid=\"+ data.JS1204.Best5.Minid + \">\" + data.JS1204.Best5.Min +\"</a></td><td>\" + data.JS1204.Best5.Average +\"</td></tr><tr><td>4 Core + 1 Elective </td><td><a href=http://atu.hk/adm-grades.php?year=2017&programme=JS1204&dfid=\"+ data.JS1204.c4x1.Maxid + \">\" + data.JS1204.c4x1.Max +\"</a></td><td><a href=http://atu.hk/adm-grades.php?year=2017&programme=JS1204&dfid=\"+ data.JS1204.c4x1.Minid + \">\" + data.JS1204.c4x1.Min +\"</a></td><td>\" + data.JS1204.c4x1.Average +\"</td></tr><tr><td>4 Core + 2 Electives </td><td><a href=http://atu.hk/adm-grades.php?year=2017&programme=JS1204&dfid=\"+ data.JS1204.c4x2.Maxid + \">\" + data.JS1204.c4x2.Max +\"</a></td><td><a href=http://atu.hk/adm-grades.php?year=2017&programme=JS1204&dfid=\"+ data.JS1204.c4x2.Minid + \">\" + data.JS1204.c4x2.Min +\"</a></td><td>\" + data.JS1204.c4x2.Average +\"</td></tr><tr><td>4 Core + 3 Electives </td><td><a href=http://atu.hk/adm-grades.php?year=2017&programme=JS1204&dfid=\"+ data.JS1204.c4x3.Maxid + \">\" + data.JS1204.c4x3.Max +\"</a></td><td><a href=http://atu.hk/adm-grades.php?year=2017&programme=JS1204&dfid=\"+ data.JS1204.c4x3.Minid + \">\" + data.JS1204.c4x3.Min +\"</a></td><td>\" + data.JS1204.c4x3.Average +\"</td></tr></tbody></table>\");\\n\\t\\t\\t\\t\\t});\\n\\t\\t\\t});\\n\\t\\t\\t</script><!--Rating for this year-->\\n<script type=\"text/javascript\">\\n    \\n    function rate(a,b,c)\\n    {\\n        $.post(\"results/2017/rate.ajax.php\",{fid:b,type:c},\\n        function(b){\\n            //alert(b);\\n            if(b==\"__RATED__\")\\n                {\\n                    alert(\"You have already rated this\")\\n                }else if(b==\"__TOO_FREQUENT__\")\\n                {\\n                    alert(\"You rate too fast\")\\n                }else{\\n                    var c=parseInt($(a).text());\\n                    $(a).text(c+1)}\\n        });\\n    }\\n\\n    $(\"a.show-blocked-record\").click(function()\\n    {\\n        $(this).parents(\"tr\").hide().next().show()\\n    });\\n        \\n    $(\"#sort\").change(function(){\\n            if($(this).val()==\"\")\\n            return false;\\n            \\n            if(!location.href.match(/&?sort=[^&]+/))\\n            {\\n                location.href=location.href+\"&sort=\"+$(this).val()\\n            }else{ \\n            location.href=location.href.replace(/(&)?sort=([^&]+)/g,\"$1\"+\"sort=\"+$(this).val())\\n            }\\n    });\\n</script>\\n\\n            <div id=\"content\">\\n                \\n                <div id=\"inner_content\">\\n                    <h2>Reported Admission Grades (JUPAS 2017 HKDSE)</h2>                    \\n                    \\n                    <div id=\"adm-content\">\\n                            <div class=\"cap\"></div>\\n                            <div class=\"adm-search-wrap\">\\n                                <div class=\"adm-search-left\">\\n                                    <div id=\"searchbox_wrap\">\\n                                        <div id=\"searchbox\">\\n                                            <p><label>Institution</label>\\n                                            <span>\\n                                                <select id=\"inst\">\\n                                                    <option value=\"\">*Please Select One*</option>\\n                                                    <option value=\"cityu\">(CityU) City University of Hong Kong</option>\\n                                                    <option value=\"hkbu\">(HKBU) Hong Kong Baptist University</option>\\n                                                    <option value=\"polyu\">(PolyU) The Hong Kong Polytechnic University</option>\\n                                                    <option value=\"cuhk\">(CUHK) The Chinese University of Hong Kong</option>\\n                                                    <option value=\"hkust\">(HKUST) The Hong Kong University of Science and Technology</option>\\n                                                    <option value=\"hku\">(HKU) The University of Hong Kong</option>\\n                                                    <option value=\"lu\">(LU) Lingnan University    </option>\\n                                                    <option value=\"hkie\">(HKIEd) The Hong Kong Institute of Education</option>\\n                                                    <option value=\"ouhk\">(OUHK) The Open University of Hong Kong</option>\\n                                                    <option value=\"sssdp\">(SSSDP) Study Subsidy Scheme for Designated Professions</option>\\n                                                </select>\\n                                            </span>\\n                                            </p>\\n                                            <p><label>Programme</label>\\n                                            <span>\\n                                                <select id=\"programme\"></select>\\n                                            </span>\\n                                            </p>\\n                                        <div class=\"clear\">&nbsp;</div>\\n                                        </div>\\n                                    </div>\\n                                    <div class=\"adm-search-bottom\">\\n                                        <div class=\"but-set\">\\n                                            <button class=\"but2\" id=\"search\">Search</button>\\n                                            <button class=\"but2\">Reset</button>\\n                                        </div>\\n                                    </div>\\n                                </div>\\n                            \\n                                <div class=\"adm-search-right\">\\n                                    <p><label>Prog. Code</label><span>JS <input type=\"text\" class=\"textfield\" id=\"pr_code\" size=\"4\" maxlength=\"4\" /></span></p>\\n                                </div>\\n                            </div>\\n                            <div class=\"cap2\"></div>\\n                            <div class=\"cap-white\"></div>\\n                            <div class=\"adm-content-main\">\\n                                            <div id=\"search_header\">\\n                <div id=\"search_header_top\">\\n                    <div id=\"programme-stat\">\\n                    <fieldset><label>Reports</label><span>11</span></fieldset>\\n                    <fieldset><label>Gender</label><span>7 male, 4 female</span></fieldset>\\n                    </div>\\n                </div>\\n                <div class=\"result_caption\">\\n                    <div class=\"result_heading\">\\n                        Result <img src=\"images/bullet.gif\" align=\"absmiddle\" /> <img src=\"images/uni_logo/cityu.jpg\" align=\"absmiddle\" />City University of Hong Kong\\n                    </div>\\n                    <div class=\"result_info\">\\n                        Programme: JS1204 / BSc Computer Science\\n                    </div>\\n                    <div class=\"result_info\">\\n                        Switch to <a href=\\'adm-grades.php?programme=JS1204&year=2016\\'> 2016 |</a><a href=\\'adm-grades.php?programme=JS1204&year=2015\\'> 2015 |</a><a href=\\'adm-grades.php?programme=JS1204&year=2014\\'> 2014 |</a><a href=\\'adm-grades.php?programme=JS1204&year=2013\\'> 2013 |</a><a href=\\'adm-grades.php?programme=JS1204&year=2012\\'> 2012 |</a> result of this program</a>\\n                        <div id=\"gradestat\"></div>\\n                    </div>\\n                </div>\\n                <div class=\"row\">\\n                    <div class=\"f1\">\\n                        <b>Sort By:</b> \\n\\t\\t\\t\\t\\t\\t<select id=\"sort\">\\n\\t\\t\\t\\t\\t\\t<option value=\"latest\">Latest records</option>\\n\\t\\t\\t\\t\\t\\t<option value=\"grade\">Grade (Total)</option>\\n\\t\\t\\t\\t\\t\\t<option value=\"grade_best5\">Grade (Best 5)</option>\\n\\t\\t\\t\\t\\t\\t<option value=\"grade_c4x1\">Grade (4 Core + 1 Elective)</option>\\n\\t\\t\\t\\t\\t\\t<option value=\"grade_c4x2\">Grade (4 Core + 2 Elective)</option>\\n\\t\\t\\t\\t\\t\\t<option value=\"grade_c4x3\">Grade (4 Core + 3 Elective)</option>\\n\\t\\t\\t\\t\\t\\t<option value=\"rating\">Rating (High to Low)</option>\\n\\t\\t\\t\\t\\t\\t</select> (Grade Sort is based on sum of all subjects points)\\n                    </div>\\n                    <div class=\"f2\">\\n                        <div class=\"addthis_toolbox addthis_default_style\"><a class=\"addthis_button_preferred_1\"></a><a class=\"addthis_button_preferred_2\"></a><a class=\"addthis_button_preferred_3\"></a><a class=\"addthis_button_preferred_4\"></a><a class=\"addthis_button_compact\"></a>\\n                        <script type=\"text/javascript\" src=\"http://s7.addthis.com/js/250/addthis_widget.js#pubid=xa-503b750116310f18\"></script>\\n                        </div>\\n                    </div>\\n                </div>\\n            </div>\\n            <div class=\"clear\"></div>\\n            <table class=\"data\" style=\"font-size:11px;\">\\n                <tr>\\n                    <th width=\"6%\">Record ID</th>\\n                    <th width=\"6%\">Banding</th>\\n                    <th width=\"8%\">English Language</th>\\n                    <th width=\"8%\">Chinese Language</th>\\n                    <th width=\"8%\">Mathematics (Core)</th>\\n                    <th width=\"8%\">Liberal Studies</th>\\n                    <th width=\"30%\">Electives</th>\\n                    <th width=\"*\">Best 5</th>\\n                    <th width=\"6%\">Remarks</th>\\n                    <th width=\"6%\">Rating</th>\\n                </tr>\\n<tr style=\"border-top:2px solid #ddd;\"><td><a href=\"adm-grades.php?programme=JS1204&dfid=1757&year=2017\" />1757</a></td><td>B5</td><td>4</td><td>3</td><td>4</td><td>4</td><td><div class=\"electives\"><div class=\"electives-subj\">Business, Accounting and Financial Studies</div><div class=\"electives-grade\">4</div></div><div class=\"electives\"><div class=\"electives-subj\">Economics</div><div class=\"electives-grade\">5</div></div></td><td>21</td><td><a href=\"adm-grades.php?programme=JS1204&dfid=1757&year=2017\" />Details</a><span class=\"viewdetails\" style=\"display:block\"><a href=\"#\" title=\"Best 5:21\\n\\t\\t\\t|| 4C1E:20\\n\\t\\t\\t|| 4C2E:24\\n\\t\\t\\t|| 4C3E:24\">Scores</a> <a href=\"adm-grades.php?programme=JS1204&dfid=1757\" title=\"A1-B4 放哂商科<br />\\r\\nCS 冇interview\">Note</a></span></td><td><div class=\"rate rate-good\"><a href=\"javascript:void(0)\" onclick=\"rate(this, 1757, 1)\">1</a></div><div class=\"rate rate-bad\"><a href=\"javascript:void(0)\" onclick=\"rate(this, 1757, 0)\">0</a></div></td></tr><tr style=\"border-top:2px solid #ddd; background-color:#f9f9f9;\"><td><a href=\"adm-grades.php?programme=JS1204&dfid=1608&year=2017\" />1608</a></td><td>A1</td><td>3</td><td>3</td><td>4</td><td>4</td><td><div class=\"electives\"><div class=\"electives-subj\">History</div><div class=\"electives-grade\">5</div></div><div class=\"electives\"><div class=\"electives-subj\">Information and Communication Technology</div><div class=\"electives-grade\">5*</div></div></td><td>22</td><td><a href=\"adm-grades.php?programme=JS1204&dfid=1608&year=2017\" />Details</a><span class=\"viewdetails\" style=\"display:block\"><a href=\"#\" title=\"Best 5:22\\n\\t\\t\\t|| 4C1E:20\\n\\t\\t\\t|| 4C2E:25\\n\\t\\t\\t|| 4C3E:25\">Scores</a>&nbsp;</span></td><td><div class=\"rate rate-good\"><a href=\"javascript:void(0)\" onclick=\"rate(this, 1608, 1)\">0</a></div><div class=\"rate rate-bad\"><a href=\"javascript:void(0)\" onclick=\"rate(this, 1608, 0)\">1</a></div></td></tr><tr style=\"border-top:2px solid #ddd;\"><td><a href=\"adm-grades.php?programme=JS1204&dfid=1563&year=2017\" />1563</a></td><td>A1</td><td>4</td><td>4</td><td>5</td><td>4</td><td><div class=\"electives\"><div class=\"electives-subj\">Economics</div><div class=\"electives-grade\">5</div></div><div class=\"electives\"><div class=\"electives-subj\">Chemistry</div><div class=\"electives-grade\">4</div></div></td><td>22</td><td><a href=\"adm-grades.php?programme=JS1204&dfid=1563&year=2017\" />Details</a><span class=\"viewdetails\" style=\"display:block\"><a href=\"#\" title=\"Best 5:22\\n\\t\\t\\t|| 4C1E:22\\n\\t\\t\\t|| 4C2E:26\\n\\t\\t\\t|| 4C3E:26\">Scores</a> <a href=\"adm-grades.php?programme=JS1204&dfid=1563\" title=\"no interview\">Note</a></span></td><td><div class=\"rate rate-good\"><a href=\"javascript:void(0)\" onclick=\"rate(this, 1563, 1)\">1</a></div><div class=\"rate rate-bad\"><a href=\"javascript:void(0)\" onclick=\"rate(this, 1563, 0)\">0</a></div></td></tr><tr style=\"border-top:2px solid #ddd; background-color:#f9f9f9;\"><td><a href=\"adm-grades.php?programme=JS1204&dfid=1287&year=2017\" />1287</a></td><td>A1</td><td>4</td><td>4</td><td>4</td><td>4</td><td><div class=\"electives\"><div class=\"electives-subj\">Business, Accounting and Financial Studies</div><div class=\"electives-grade\">5</div></div><div class=\"electives\"><div class=\"electives-subj\">Economics</div><div class=\"electives-grade\">4</div></div></td><td>21</td><td><a href=\"adm-grades.php?programme=JS1204&dfid=1287&year=2017\" />Details</a><span class=\"viewdetails\" style=\"display:block\"><a href=\"#\" title=\"Best 5:21\\n\\t\\t\\t|| 4C1E:21\\n\\t\\t\\t|| 4C2E:25\\n\\t\\t\\t|| 4C3E:25\">Scores</a> <a href=\"adm-grades.php?programme=JS1204&dfid=1287\" title=\"no interview\">Note</a></span></td><td><div class=\"rate rate-good\"><a href=\"javascript:void(0)\" onclick=\"rate(this, 1287, 1)\">0</a></div><div class=\"rate rate-bad\"><a href=\"javascript:void(0)\" onclick=\"rate(this, 1287, 0)\">1</a></div></td></tr><tr style=\"border-top:2px solid #ddd;\"><td><a href=\"adm-grades.php?programme=JS1204&dfid=1083&year=2017\" />1083</a></td><td>A2</td><td>3</td><td>5</td><td>5</td><td>4</td><td><div class=\"electives\"><div class=\"electives-subj\">Information and Communication Technology</div><div class=\"electives-grade\">4</div></div><div class=\"electives\"><div class=\"electives-subj\">Chinese Literature</div><div class=\"electives-grade\">4</div></div></td><td>22</td><td><a href=\"adm-grades.php?programme=JS1204&dfid=1083&year=2017\" />Details</a><span class=\"viewdetails\" style=\"display:block\"><a href=\"#\" title=\"Best 5:22\\n\\t\\t\\t|| 4C1E:21\\n\\t\\t\\t|| 4C2E:25\\n\\t\\t\\t|| 4C3E:25\">Scores</a>&nbsp;</span></td><td><div class=\"rate rate-good\"><a href=\"javascript:void(0)\" onclick=\"rate(this, 1083, 1)\">0</a></div><div class=\"rate rate-bad\"><a href=\"javascript:void(0)\" onclick=\"rate(this, 1083, 0)\">1</a></div></td></tr><tr style=\"border-top:2px solid #ddd; background-color:#f9f9f9;\"><td><a href=\"adm-grades.php?programme=JS1204&dfid=850&year=2017\" />850</a></td><td>A1</td><td>4</td><td>4</td><td>4</td><td>4</td><td><div class=\"electives\"><div class=\"electives-subj\">Biology</div><div class=\"electives-grade\">4</div></div><div class=\"electives\"><div class=\"electives-subj\">Chemistry</div><div class=\"electives-grade\">4</div></div><div class=\"electives\"><div class=\"electives-subj\">Economics</div><div class=\"electives-grade\">3</div></div></td><td>20</td><td><a href=\"adm-grades.php?programme=JS1204&dfid=850&year=2017\" />Details</a><span class=\"viewdetails\" style=\"display:block\"><a href=\"#\" title=\"Best 5:20\\n\\t\\t\\t|| 4C1E:20\\n\\t\\t\\t|| 4C2E:24\\n\\t\\t\\t|| 4C3E:27\">Scores</a> <a href=\"adm-grades.php?programme=JS1204&dfid=850\" title=\"N/A\">Note</a></span></td><td><div class=\"rate rate-good\"><a href=\"javascript:void(0)\" onclick=\"rate(this, 850, 1)\">0</a></div><div class=\"rate rate-bad\"><a href=\"javascript:void(0)\" onclick=\"rate(this, 850, 0)\">0</a></div></td></tr><tr style=\"border-top:2px solid #ddd;\"><td><a href=\"adm-grades.php?programme=JS1204&dfid=773&year=2017\" />773</a></td><td>A1</td><td>3</td><td>3</td><td>5</td><td>4</td><td><div class=\"electives\"><div class=\"electives-subj\">Information and Communication Technology</div><div class=\"electives-grade\">5*</div></div><div class=\"electives\"><div class=\"electives-subj\">Physics</div><div class=\"electives-grade\">4</div></div></td><td>22</td><td><a href=\"adm-grades.php?programme=JS1204&dfid=773&year=2017\" />Details</a><span class=\"viewdetails\" style=\"display:block\"><a href=\"#\" title=\"Best 5:22\\n\\t\\t\\t|| 4C1E:21\\n\\t\\t\\t|| 4C2E:25\\n\\t\\t\\t|| 4C3E:25\">Scores</a>&nbsp;</span></td><td><div class=\"rate rate-good\"><a href=\"javascript:void(0)\" onclick=\"rate(this, 773, 1)\">0</a></div><div class=\"rate rate-bad\"><a href=\"javascript:void(0)\" onclick=\"rate(this, 773, 0)\">0</a></div></td></tr><tr style=\"border-top:2px solid #ddd; background-color:#f9f9f9;\"><td><a href=\"adm-grades.php?programme=JS1204&dfid=613&year=2017\" />613</a></td><td>A1</td><td>3</td><td>4</td><td>4</td><td>4</td><td><div class=\"electives\"><div class=\"electives-subj\">Chinese History</div><div class=\"electives-grade\">5</div></div><div class=\"electives\"><div class=\"electives-subj\">Economics</div><div class=\"electives-grade\">5*</div></div></td><td>23</td><td><a href=\"adm-grades.php?programme=JS1204&dfid=613&year=2017\" />Details</a><span class=\"viewdetails\" style=\"display:block\"><a href=\"#\" title=\"Best 5:23\\n\\t\\t\\t|| 4C1E:21\\n\\t\\t\\t|| 4C2E:26\\n\\t\\t\\t|| 4C3E:26\">Scores</a>&nbsp;</span></td><td><div class=\"rate rate-good\"><a href=\"javascript:void(0)\" onclick=\"rate(this, 613, 1)\">0</a></div><div class=\"rate rate-bad\"><a href=\"javascript:void(0)\" onclick=\"rate(this, 613, 0)\">0</a></div></td></tr><tr style=\"border-top:2px solid #ddd;\"><td><a href=\"adm-grades.php?programme=JS1204&dfid=154&year=2017\" />154</a></td><td>A2</td><td>4</td><td>4</td><td>4</td><td>4</td><td><div class=\"electives\"><div class=\"electives-subj\">Biology</div><div class=\"electives-grade\">5</div></div><div class=\"electives\"><div class=\"electives-subj\">History</div><div class=\"electives-grade\">4</div></div></td><td>21</td><td><a href=\"adm-grades.php?programme=JS1204&dfid=154&year=2017\" />Details</a><span class=\"viewdetails\" style=\"display:block\"><a href=\"#\" title=\"Best 5:21\\n\\t\\t\\t|| 4C1E:21\\n\\t\\t\\t|| 4C2E:25\\n\\t\\t\\t|| 4C3E:25\">Scores</a> <a href=\"adm-grades.php?programme=JS1204&dfid=154\" title=\"retaker <br />\\r\\nweight 完 29分\">Note</a></span></td><td><div class=\"rate rate-good\"><a href=\"javascript:void(0)\" onclick=\"rate(this, 154, 1)\">2</a></div><div class=\"rate rate-bad\"><a href=\"javascript:void(0)\" onclick=\"rate(this, 154, 0)\">1</a></div></td></tr><tr style=\"border-top:2px solid #ddd; background-color:#f9f9f9;\"><td><a href=\"adm-grades.php?programme=JS1204&dfid=100&year=2017\" />100</a></td><td>A3</td><td>4</td><td>3</td><td>4</td><td>4</td><td><div class=\"electives\"><div class=\"electives-subj\">Chemistry</div><div class=\"electives-grade\">5</div></div><div class=\"electives\"><div class=\"electives-subj\">Biology</div><div class=\"electives-grade\">4</div></div><div class=\"electives\"><div class=\"electives-subj\">Physics</div><div class=\"electives-grade\">4</div></div></td><td>21</td><td><a href=\"adm-grades.php?programme=JS1204&dfid=100&year=2017\" />Details</a><span class=\"viewdetails\" style=\"display:block\"><a href=\"#\" title=\"Best 5:21\\n\\t\\t\\t|| 4C1E:20\\n\\t\\t\\t|| 4C2E:24\\n\\t\\t\\t|| 4C3E:28\">Scores</a> <a href=\"adm-grades.php?programme=JS1204&dfid=100\" title=\"放榜前無擺band A, 放榜後擺A3無interview<br />\\r\\n(印象中我weighted完meet上年median&amp;lq)\">Note</a></span></td><td><div class=\"rate rate-good\"><a href=\"javascript:void(0)\" onclick=\"rate(this, 100, 1)\">0</a></div><div class=\"rate rate-bad\"><a href=\"javascript:void(0)\" onclick=\"rate(this, 100, 0)\">0</a></div></td></tr><tr style=\"border-top:2px solid #ddd;\"><td><a href=\"adm-grades.php?programme=JS1204&dfid=60&year=2017\" />60</a></td><td>A1</td><td>3</td><td>4</td><td>5</td><td>4</td><td><div class=\"electives\"><div class=\"electives-subj\">Information and Communication Technology</div><div class=\"electives-grade\">5</div></div><div class=\"electives\"><div class=\"electives-subj\">Chinese History</div><div class=\"electives-grade\">4</div></div></td><td>22</td><td><a href=\"adm-grades.php?programme=JS1204&dfid=60&year=2017\" />Details</a><span class=\"viewdetails\" style=\"display:block\"><a href=\"#\" title=\"Best 5:22\\n\\t\\t\\t|| 4C1E:21\\n\\t\\t\\t|| 4C2E:25\\n\\t\\t\\t|| 4C3E:25\">Scores</a> <a href=\"adm-grades.php?programme=JS1204&dfid=60\" title=\"Retaker黎 上年2016 DSE 43345(ICT) 4(中史）報過但入唔到 今年retake MATH Lv3--&gt;Lv5 無Interview直入<br />\\r\\n<br />\\r\\n基本上weighting 完夠28分就入硬(4+2)英文*2\">Note</a></span></td><td><div class=\"rate rate-good\"><a href=\"javascript:void(0)\" onclick=\"rate(this, 60, 1)\">3</a></div><div class=\"rate rate-bad\"><a href=\"javascript:void(0)\" onclick=\"rate(this, 60, 0)\">1</a></div></td></tr></table>                                \\n                            </div>\\n                            <div class=\"cap2-white\"></div>\\n                        \\n                    </div>\\n                    <div id=\"adm-sidebar\">\\n                    <h1>HKDSE Records</h1>\\n                    <div class=\"useful-info\">\\n                        <div class=\"cat-content\">\\n                            <ul id=\"archive\">\\n                                    <li><a href=\"adm-grades.php?year=2017\">JUPAS 2017 HKDSE</a></li>\\n                                    <li><a href=\"adm-grades.php?year=2016\">JUPAS 2016 HKDSE</a></li>\\n                            \\t\\t<li><a href=\"adm-grades.php?year=2015\">JUPAS 2015 HKDSE</a></li>\\n                            \\t\\t<li><a href=\"adm-grades.php?year=2014\">JUPAS 2014 HKDSE</a></li>\\n                            \\t\\t<li><a href=\"adm-grades.php?year=2013\">JUPAS 2013 HKDSE</a></li>\\n                            \\t\\t<li><a href=\"adm-grades.php?year=2012\">JUPAS 2012 HKDSE</a></li>\\n                            </ul>\\n                        </div>\\n                    </div>\\n                    <div id=\"adm-sidebar\" style=\"margin-top:10px;\">\\n                    <h1>HKALE Records</h1>\\n                    <div class=\"useful-info\">\\n                        <div class=\"cat-content\">\\n                            <ul id=\"archive\">\\n                                <li><a href=\"archives.php?cmd=adm-12-hkale\">JUPAS 2012 HKALE</a></li>\\n                                <li><a href=\"archives.php?cmd=adm-11-hkale\">JUPAS 2011 HKALE</a></li>\\n                            </ul>\\n                        </div>\\n                    </div>\\n                    <!--\\n                    <h1>Admission Grades</h1>\\n                    <div class=\"useful-info\">\\n                        <div class=\"cat-content\">\\n                            <ul>\\n                                <li>CityU (<a href=\"#\">AL</a>, <a href=\"#\">DSE</a>)</li>\\n                                <li>HKBU (<a href=\"#\">AL</a>, <a href=\"#\">DSE</a>)</li>\\n                                <li>PolyU (<a href=\"#\">AL</a>, <a href=\"#\">DSE</a>)</li>\\n                                <li>CUHK (<a href=\"#\">AL</a>, <a href=\"#\">DSE</a>)</li>\\n                                <li>HKUST (<a href=\"#\">AL</a>, <a href=\"#\">DSE</a>)</li>\\n                                <li>HKU (<a href=\"#\">AL</a>, <a href=\"#\">DSE</a>)</li>\\n                                <li>LU (<a href=\"#\">AL</a>, <a href=\"#\">DSE</a>)</li>\\n                                <li>HKIEd (<a href=\"#\">AL</a>, <a href=\"#\">DSE</a>)</li>\\n                                <li>OUHK (<a href=\"#\">AL</a>, <a href=\"#\">DSE</a>)</li>\\n                            </ul>\\n                        </div>\\n                    </div>\\n                    -->\\n                    <div style=\"margin-top:15px\">\\n                    <script language=\\'JavaScript\\' type=\\'text/javascript\\'>randomstr = new String (Math.random());randomstr = randomstr.substring(1,8);document.write (\"<\" + \"script language=\\'JavaScript\\' type=\\'text/javascript\\' src=\\'\" + \"http://servedby.adsfactor.net/adj.php?ts=\" + randomstr + \"&amp;sid=907337455851\" + \"\\'><\" + \"/script>\");</script><noscript><a href=\\'http://servedby.adsfactor.net/adc.php?sid=907337455851\\' ><img src=\\'http://servedby.adsfactor.net/adv.php?sid=907337455851\\' border=\\'0\\'></a></noscript>\\n                    </div>\\n                    </div>\\n                </div>\\n                <div class=\"clear\"></div>\\n            </div>\\n<script type=\"text/javascript\">\\n    var inst = [\\'cityu\\', \\'hkbu\\', \\'polyu\\', \\'cuhk\\', \\'hkust\\', \\'hku\\', \\'lu\\', \\'hkie\\', \\'ouhk\\'];\\n    $(function() {\\n        function selectInst() {\\n            var index = $(\\'option:selected\\', this).index();\\n            index > 0 && listprogramme(index);\\n        }\\n        function listprogramme(_inst) {\\n            $(\\'#pr_code\\').val(\\'\\');\\n            $(\\'select#programme\\').html(\\'<option value=\"\">Loading...</option>\\');\\n            $.getJSON(\\'./get_programmes.ajax.php\\', {inst: _inst,year: 2017},\\n                function(result) {\\n                    $(\\'select#programme\\').html(\\'<option value=\"\"></option>\\');\\n                    $.each(result, function(i, programme) {\\n                        if (programme[0] == \\'1204\\') {\\n                            $(\\'select#programme\\').append(\\'<option value=\"JS\\'+programme[0]+\\'\" selected>JS\\'+programme[0]+\\' / \\'+programme[1]+\\'</option>\\');\\n                        } else {\\n                            $(\\'select#programme\\').append(\\'<option value=\"JS\\'+programme[0]+\\'\">JS\\'+programme[0]+\\' / \\'+programme[1]+\\'</option>\\');\\n                        }\\n                    });\\n                }\\n            );\\n        }\\n\\n        $(\\'select#inst\\').bind(\\'change\\', selectInst);\\n        $(\\'select#programme\\').change(function() {\\n            if ($(\\'option:selected\\', this).val() == \\'\\') { return; }\\n        });\\n        $(\\'#search\\').click(function() {\\n            if ($(\\'#pr_code\\').val() != \\'\\') {\\n                var regexp = /^[1-9][0-9]{3}$/;\\n                if (regexp.test($(\\'#pr_code\\').val())) {\\n\\t\\t\\t\\t\\t\\n\\t\\t\\t\\t\\tvar thiscode = $(\\'#pr_code\\').val();\\n\\t\\t\\t\\t\\t\\n\\t\\t\\t\\t\\tlocation.href = \\'?programme=JS\\'+thiscode+\\'&year=2017\\';\\n                    \\n                }\\n            } else {\\n                if (!($(\\'select#inst\\').val() == \\'\\' || $(\\'select#programme\\').val() == \\'\\')) {\\n                    location.href = \\'?programme=\\'+$(\\'select#programme option:selected\\').val()+\\'&year=2017\\';\\n                }\\n            }\\n        });\\n        var el = $(\\'select#inst option:eq(1)\\');\\n        el.attr(\\'selected\\', \\'selected\\');\\n        listprogramme($(\\'option:selected\\', $(\\'select#inst\\')).index());\\n        $(\\'#criteria\\').click(function() {\\n            if ($(\\'#searchbox_wrap\\').css(\\'display\\') == \\'block\\') {\\n                $(\\'#searchbox_wrap\\').slideUp();\\n                $(this).removeClass(\\'boxheader_arrowup\\').addClass(\\'boxheader_arrowdown\\');\\n            } else {\\n                $(\\'#searchbox_wrap\\').slideDown();\\n                $(this).removeClass(\\'boxheader_arrowdown\\').addClass(\\'boxheader_arrowup\\');\\n            }\\n        });\\n        $(\\'a.show-blocked-record\\').click(function() {$(this).parents(\\'tr\\').hide().next().show();});\\n        //$(\\'span [title], img[title]\\').tipsy({gravity: \\'s\\', html: true, opacity:1});\\n        $(\\'#sort\\').change(function() {if ($(this).val() == \\'\\') return false;if (!location.href.match(/&?sort=[^&]+/)) {location.href = location.href + \\'&sort=\\' + $(this).val();} else {location.href = location.href.replace(/(&)?sort=([^&]+)/g, \\'$1\\' + \\'sort=\\' + $(this).val());}});\\n    });\\n</script>\\n\\t\\t\\t</div>\\n\\t\\t</div>\\n\\t\\t\\n\\t\\t<div id=\"bottom\">\\n\\t\\t\\t<a href=\"./index.php\">Home</a> | <a href=\"./news.php\">News</a> | <a href=\"./contactus.php\">Contact Us</a> | <a href=\"./disclaimer.php\">Disclaimer</a><br />\\n\\t\\t\\t&copy; Copyright 2011-2017 Admission To University All Rights Reserved. Supported By <a href=\"http://lsforum.net\" target=_blank>lsforum.net</a>\\n\\t\\t\\t<br />No portion of ATU.HK may be duplicated, redistributed or manipulated in any form. By accessing any information beyond this page, you agree to abide by the Terms of Use.\\n\\t\\t\\t<br /><a href=\"http://www.hitwebcounter.com/htmltutorial.php\" target=\"_blank\">\\n                <img src=\"http://hitwebcounter.com/counter/counter.php?page=4514303&style=0008&nbdigits=5&type=page&initCount=4500\" title=\"views tracker\" Alt=\"views tracker\"   border=\"0\" >\\n                </a>\\n                <script type=\"text/javascript\">\\nvar clicky_site_ids = clicky_site_ids || [];\\nclicky_site_ids.push(100634613);\\n(function() {\\n  var s = document.createElement(\\'script\\');\\n  s.type = \\'text/javascript\\';\\n  s.async = true;\\n  s.src = \\'//static.getclicky.com/js\\';\\n  ( document.getElementsByTagName(\\'head\\')[0] || document.getElementsByTagName(\\'body\\')[0] ).appendChild( s );\\n})();\\n</script>\\n<noscript><p><img alt=\"Clicky\" width=\"1\" height=\"1\" src=\"//in.getclicky.com/100634613ns.gif\" /></p></noscript>\\n\\t\\t</div>\\n\\t</body>\\n</html>'"
      ]
     },
     "execution_count": 25,
     "metadata": {},
     "output_type": "execute_result"
    }
   ],
   "source": [
    "import requests\n",
    "response = requests.get(\"http://atu.hk/adm-grades.php?programme=JS1204&year=2017/results/2017/cache/1.php\")\n",
    "response.text"
   ]
  },
  {
   "cell_type": "code",
   "execution_count": 26,
   "metadata": {},
   "outputs": [],
   "source": [
    "with open('cityu_cs_score.html', 'w',  encoding=\"utf-8\") as f:\n",
    "     f.write(str(response.text))"
   ]
  },
  {
   "cell_type": "code",
   "execution_count": 19,
   "metadata": {},
   "outputs": [],
   "source": [
    "from bs4 import BeautifulSoup\n",
    "soup = BeautifulSoup(response.content, 'html.parser')"
   ]
  },
  {
   "cell_type": "code",
   "execution_count": 56,
   "metadata": {
    "scrolled": true
   },
   "outputs": [
    {
     "data": {
      "text/plain": [
       "[<td><a href=\"adm-grades.php?programme=JS1204&amp;dfid=1757&amp;year=2017\"></a>1757</td>,\n",
       " <td>B5</td>,\n",
       " <td>4</td>,\n",
       " <td>3</td>,\n",
       " <td>4</td>,\n",
       " <td>4</td>,\n",
       " <td><div class=\"electives\"><div class=\"electives-subj\">Business, Accounting and Financial Studies</div><div class=\"electives-grade\">4</div></div><div class=\"electives\"><div class=\"electives-subj\">Economics</div><div class=\"electives-grade\">5</div></div></td>,\n",
       " <td>21</td>,\n",
       " <td><a href=\"adm-grades.php?programme=JS1204&amp;dfid=1757&amp;year=2017\"></a>Details</td>,\n",
       " <td><div class=\"rate rate-good\"><a href=\"javascript:void(0)\" onclick=\"rate(this, 1757, 1)\">1</a></div><div class=\"rate rate-bad\"><a href=\"javascript:void(0)\" onclick=\"rate(this, 1757, 0)\">0</a></div></td>,\n",
       " <td><a href=\"adm-grades.php?programme=JS1204&amp;dfid=1608&amp;year=2017\"></a>1608</td>,\n",
       " <td>A1</td>,\n",
       " <td>3</td>,\n",
       " <td>3</td>,\n",
       " <td>4</td>,\n",
       " <td>4</td>,\n",
       " <td><div class=\"electives\"><div class=\"electives-subj\">History</div><div class=\"electives-grade\">5</div></div><div class=\"electives\"><div class=\"electives-subj\">Information and Communication Technology</div><div class=\"electives-grade\">5*</div></div></td>,\n",
       " <td>22</td>,\n",
       " <td><a href=\"adm-grades.php?programme=JS1204&amp;dfid=1608&amp;year=2017\"></a>Details</td>,\n",
       " <td><div class=\"rate rate-good\"><a href=\"javascript:void(0)\" onclick=\"rate(this, 1608, 1)\">0</a></div><div class=\"rate rate-bad\"><a href=\"javascript:void(0)\" onclick=\"rate(this, 1608, 0)\">1</a></div></td>,\n",
       " <td><a href=\"adm-grades.php?programme=JS1204&amp;dfid=1563&amp;year=2017\"></a>1563</td>,\n",
       " <td>A1</td>,\n",
       " <td>4</td>,\n",
       " <td>4</td>,\n",
       " <td>5</td>,\n",
       " <td>4</td>,\n",
       " <td><div class=\"electives\"><div class=\"electives-subj\">Economics</div><div class=\"electives-grade\">5</div></div><div class=\"electives\"><div class=\"electives-subj\">Chemistry</div><div class=\"electives-grade\">4</div></div></td>,\n",
       " <td>22</td>,\n",
       " <td><a href=\"adm-grades.php?programme=JS1204&amp;dfid=1563&amp;year=2017\"></a>Details</td>,\n",
       " <td><div class=\"rate rate-good\"><a href=\"javascript:void(0)\" onclick=\"rate(this, 1563, 1)\">1</a></div><div class=\"rate rate-bad\"><a href=\"javascript:void(0)\" onclick=\"rate(this, 1563, 0)\">0</a></div></td>,\n",
       " <td><a href=\"adm-grades.php?programme=JS1204&amp;dfid=1287&amp;year=2017\"></a>1287</td>,\n",
       " <td>A1</td>,\n",
       " <td>4</td>,\n",
       " <td>4</td>,\n",
       " <td>4</td>,\n",
       " <td>4</td>,\n",
       " <td><div class=\"electives\"><div class=\"electives-subj\">Business, Accounting and Financial Studies</div><div class=\"electives-grade\">5</div></div><div class=\"electives\"><div class=\"electives-subj\">Economics</div><div class=\"electives-grade\">4</div></div></td>,\n",
       " <td>21</td>,\n",
       " <td><a href=\"adm-grades.php?programme=JS1204&amp;dfid=1287&amp;year=2017\"></a>Details</td>,\n",
       " <td><div class=\"rate rate-good\"><a href=\"javascript:void(0)\" onclick=\"rate(this, 1287, 1)\">0</a></div><div class=\"rate rate-bad\"><a href=\"javascript:void(0)\" onclick=\"rate(this, 1287, 0)\">1</a></div></td>,\n",
       " <td><a href=\"adm-grades.php?programme=JS1204&amp;dfid=1083&amp;year=2017\"></a>1083</td>,\n",
       " <td>A2</td>,\n",
       " <td>3</td>,\n",
       " <td>5</td>,\n",
       " <td>5</td>,\n",
       " <td>4</td>,\n",
       " <td><div class=\"electives\"><div class=\"electives-subj\">Information and Communication Technology</div><div class=\"electives-grade\">4</div></div><div class=\"electives\"><div class=\"electives-subj\">Chinese Literature</div><div class=\"electives-grade\">4</div></div></td>,\n",
       " <td>22</td>,\n",
       " <td><a href=\"adm-grades.php?programme=JS1204&amp;dfid=1083&amp;year=2017\"></a>Details</td>,\n",
       " <td><div class=\"rate rate-good\"><a href=\"javascript:void(0)\" onclick=\"rate(this, 1083, 1)\">0</a></div><div class=\"rate rate-bad\"><a href=\"javascript:void(0)\" onclick=\"rate(this, 1083, 0)\">1</a></div></td>,\n",
       " <td><a href=\"adm-grades.php?programme=JS1204&amp;dfid=850&amp;year=2017\"></a>850</td>,\n",
       " <td>A1</td>,\n",
       " <td>4</td>,\n",
       " <td>4</td>,\n",
       " <td>4</td>,\n",
       " <td>4</td>,\n",
       " <td><div class=\"electives\"><div class=\"electives-subj\">Biology</div><div class=\"electives-grade\">4</div></div><div class=\"electives\"><div class=\"electives-subj\">Chemistry</div><div class=\"electives-grade\">4</div></div><div class=\"electives\"><div class=\"electives-subj\">Economics</div><div class=\"electives-grade\">3</div></div></td>,\n",
       " <td>20</td>,\n",
       " <td><a href=\"adm-grades.php?programme=JS1204&amp;dfid=850&amp;year=2017\"></a>Details</td>,\n",
       " <td><div class=\"rate rate-good\"><a href=\"javascript:void(0)\" onclick=\"rate(this, 850, 1)\">0</a></div><div class=\"rate rate-bad\"><a href=\"javascript:void(0)\" onclick=\"rate(this, 850, 0)\">0</a></div></td>,\n",
       " <td><a href=\"adm-grades.php?programme=JS1204&amp;dfid=773&amp;year=2017\"></a>773</td>,\n",
       " <td>A1</td>,\n",
       " <td>3</td>,\n",
       " <td>3</td>,\n",
       " <td>5</td>,\n",
       " <td>4</td>,\n",
       " <td><div class=\"electives\"><div class=\"electives-subj\">Information and Communication Technology</div><div class=\"electives-grade\">5*</div></div><div class=\"electives\"><div class=\"electives-subj\">Physics</div><div class=\"electives-grade\">4</div></div></td>,\n",
       " <td>22</td>,\n",
       " <td><a href=\"adm-grades.php?programme=JS1204&amp;dfid=773&amp;year=2017\"></a>Details</td>,\n",
       " <td><div class=\"rate rate-good\"><a href=\"javascript:void(0)\" onclick=\"rate(this, 773, 1)\">0</a></div><div class=\"rate rate-bad\"><a href=\"javascript:void(0)\" onclick=\"rate(this, 773, 0)\">0</a></div></td>,\n",
       " <td><a href=\"adm-grades.php?programme=JS1204&amp;dfid=613&amp;year=2017\"></a>613</td>,\n",
       " <td>A1</td>,\n",
       " <td>3</td>,\n",
       " <td>4</td>,\n",
       " <td>4</td>,\n",
       " <td>4</td>,\n",
       " <td><div class=\"electives\"><div class=\"electives-subj\">Chinese History</div><div class=\"electives-grade\">5</div></div><div class=\"electives\"><div class=\"electives-subj\">Economics</div><div class=\"electives-grade\">5*</div></div></td>,\n",
       " <td>23</td>,\n",
       " <td><a href=\"adm-grades.php?programme=JS1204&amp;dfid=613&amp;year=2017\"></a>Details</td>,\n",
       " <td><div class=\"rate rate-good\"><a href=\"javascript:void(0)\" onclick=\"rate(this, 613, 1)\">0</a></div><div class=\"rate rate-bad\"><a href=\"javascript:void(0)\" onclick=\"rate(this, 613, 0)\">0</a></div></td>,\n",
       " <td><a href=\"adm-grades.php?programme=JS1204&amp;dfid=154&amp;year=2017\"></a>154</td>,\n",
       " <td>A2</td>,\n",
       " <td>4</td>,\n",
       " <td>4</td>,\n",
       " <td>4</td>,\n",
       " <td>4</td>,\n",
       " <td><div class=\"electives\"><div class=\"electives-subj\">Biology</div><div class=\"electives-grade\">5</div></div><div class=\"electives\"><div class=\"electives-subj\">History</div><div class=\"electives-grade\">4</div></div></td>,\n",
       " <td>21</td>,\n",
       " <td><a href=\"adm-grades.php?programme=JS1204&amp;dfid=154&amp;year=2017\"></a>Details</td>,\n",
       " <td><div class=\"rate rate-good\"><a href=\"javascript:void(0)\" onclick=\"rate(this, 154, 1)\">2</a></div><div class=\"rate rate-bad\"><a href=\"javascript:void(0)\" onclick=\"rate(this, 154, 0)\">1</a></div></td>,\n",
       " <td><a href=\"adm-grades.php?programme=JS1204&amp;dfid=100&amp;year=2017\"></a>100</td>,\n",
       " <td>A3</td>,\n",
       " <td>4</td>,\n",
       " <td>3</td>,\n",
       " <td>4</td>,\n",
       " <td>4</td>,\n",
       " <td><div class=\"electives\"><div class=\"electives-subj\">Chemistry</div><div class=\"electives-grade\">5</div></div><div class=\"electives\"><div class=\"electives-subj\">Biology</div><div class=\"electives-grade\">4</div></div><div class=\"electives\"><div class=\"electives-subj\">Physics</div><div class=\"electives-grade\">4</div></div></td>,\n",
       " <td>21</td>,\n",
       " <td><a href=\"adm-grades.php?programme=JS1204&amp;dfid=100&amp;year=2017\"></a>Details</td>,\n",
       " <td><div class=\"rate rate-good\"><a href=\"javascript:void(0)\" onclick=\"rate(this, 100, 1)\">0</a></div><div class=\"rate rate-bad\"><a href=\"javascript:void(0)\" onclick=\"rate(this, 100, 0)\">0</a></div></td>,\n",
       " <td><a href=\"adm-grades.php?programme=JS1204&amp;dfid=60&amp;year=2017\"></a>60</td>,\n",
       " <td>A1</td>,\n",
       " <td>3</td>,\n",
       " <td>4</td>,\n",
       " <td>5</td>,\n",
       " <td>4</td>,\n",
       " <td><div class=\"electives\"><div class=\"electives-subj\">Information and Communication Technology</div><div class=\"electives-grade\">5</div></div><div class=\"electives\"><div class=\"electives-subj\">Chinese History</div><div class=\"electives-grade\">4</div></div></td>,\n",
       " <td>22</td>,\n",
       " <td><a href=\"adm-grades.php?programme=JS1204&amp;dfid=60&amp;year=2017\"></a>Details</td>,\n",
       " <td><div class=\"rate rate-good\"><a href=\"javascript:void(0)\" onclick=\"rate(this, 60, 1)\">3</a></div><div class=\"rate rate-bad\"><a href=\"javascript:void(0)\" onclick=\"rate(this, 60, 0)\">1</a></div></td>]"
      ]
     },
     "execution_count": 56,
     "metadata": {},
     "output_type": "execute_result"
    }
   ],
   "source": [
    "dse_score = soup.find_all('td')\n",
    "dse_score"
   ]
  },
  {
   "cell_type": "code",
   "execution_count": 57,
   "metadata": {},
   "outputs": [
    {
     "data": {
      "text/plain": [
       "['1757',\n",
       " 'B5',\n",
       " '4',\n",
       " '3',\n",
       " '4',\n",
       " '4',\n",
       " 'Business, Accounting and Financial Studies4Economics5',\n",
       " '21',\n",
       " 'Details',\n",
       " '10',\n",
       " '1608',\n",
       " 'A1',\n",
       " '3',\n",
       " '3',\n",
       " '4',\n",
       " '4',\n",
       " 'History5Information and Communication Technology5*',\n",
       " '22',\n",
       " 'Details',\n",
       " '01',\n",
       " '1563',\n",
       " 'A1',\n",
       " '4',\n",
       " '4',\n",
       " '5',\n",
       " '4',\n",
       " 'Economics5Chemistry4',\n",
       " '22',\n",
       " 'Details',\n",
       " '10',\n",
       " '1287',\n",
       " 'A1',\n",
       " '4',\n",
       " '4',\n",
       " '4',\n",
       " '4',\n",
       " 'Business, Accounting and Financial Studies5Economics4',\n",
       " '21',\n",
       " 'Details',\n",
       " '01',\n",
       " '1083',\n",
       " 'A2',\n",
       " '3',\n",
       " '5',\n",
       " '5',\n",
       " '4',\n",
       " 'Information and Communication Technology4Chinese Literature4',\n",
       " '22',\n",
       " 'Details',\n",
       " '01',\n",
       " '850',\n",
       " 'A1',\n",
       " '4',\n",
       " '4',\n",
       " '4',\n",
       " '4',\n",
       " 'Biology4Chemistry4Economics3',\n",
       " '20',\n",
       " 'Details',\n",
       " '00',\n",
       " '773',\n",
       " 'A1',\n",
       " '3',\n",
       " '3',\n",
       " '5',\n",
       " '4',\n",
       " 'Information and Communication Technology5*Physics4',\n",
       " '22',\n",
       " 'Details',\n",
       " '00',\n",
       " '613',\n",
       " 'A1',\n",
       " '3',\n",
       " '4',\n",
       " '4',\n",
       " '4',\n",
       " 'Chinese History5Economics5*',\n",
       " '23',\n",
       " 'Details',\n",
       " '00',\n",
       " '154',\n",
       " 'A2',\n",
       " '4',\n",
       " '4',\n",
       " '4',\n",
       " '4',\n",
       " 'Biology5History4',\n",
       " '21',\n",
       " 'Details',\n",
       " '21',\n",
       " '100',\n",
       " 'A3',\n",
       " '4',\n",
       " '3',\n",
       " '4',\n",
       " '4',\n",
       " 'Chemistry5Biology4Physics4',\n",
       " '21',\n",
       " 'Details',\n",
       " '00',\n",
       " '60',\n",
       " 'A1',\n",
       " '3',\n",
       " '4',\n",
       " '5',\n",
       " '4',\n",
       " 'Information and Communication Technology5Chinese History4',\n",
       " '22',\n",
       " 'Details',\n",
       " '31']"
      ]
     },
     "execution_count": 57,
     "metadata": {},
     "output_type": "execute_result"
    }
   ],
   "source": [
    "dse_score=[item.text for item in dse_score]\n",
    "dse_score"
   ]
  },
  {
   "cell_type": "code",
   "execution_count": 68,
   "metadata": {},
   "outputs": [
    {
     "data": {
      "text/plain": [
       "1"
      ]
     },
     "execution_count": 68,
     "metadata": {},
     "output_type": "execute_result"
    }
   ],
   "source": []
  },
  {
   "cell_type": "code",
   "execution_count": null,
   "metadata": {},
   "outputs": [],
   "source": []
  },
  {
   "cell_type": "code",
   "execution_count": null,
   "metadata": {},
   "outputs": [],
   "source": []
  }
 ],
 "metadata": {
  "kernelspec": {
   "display_name": "Python 3",
   "language": "python",
   "name": "python3"
  },
  "language_info": {
   "codemirror_mode": {
    "name": "ipython",
    "version": 3
   },
   "file_extension": ".py",
   "mimetype": "text/x-python",
   "name": "python",
   "nbconvert_exporter": "python",
   "pygments_lexer": "ipython3",
   "version": "3.6.4"
  }
 },
 "nbformat": 4,
 "nbformat_minor": 2
}
